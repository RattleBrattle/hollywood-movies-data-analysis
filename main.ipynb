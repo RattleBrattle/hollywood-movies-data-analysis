{
 "cells": [
  {
   "cell_type": "markdown",
   "id": "0a3ba4eb",
   "metadata": {},
   "source": [
    "# Movies Dataset Preprocessing, EDA, Feature Engineering, and Visualization\n",
    "\n",
    "- Name: Basel Mohamed Mostafa Sayed\n",
    "- Email: baselmohamed802@gmail.com"
   ]
  },
  {
   "cell_type": "markdown",
   "id": "897b7771",
   "metadata": {},
   "source": [
    "# Exploratory Data Analysis (EDA) on the Movies Dataset  \n",
    "\n",
    "## Introduction  \n",
    "\n",
    "🎬 **Lights, Camera, Insights!**  \n",
    "\n",
    "Movies are more than just entertainment—they’re a multi-billion-dollar industry where art meets commerce. But what makes a film successful? Is it the genre, the studio, or the elusive approval of critics and audiences? In this EDA, we dive into a curated dataset of films to uncover patterns, surprises, and actionable insights that could shape the future of filmmaking.  \n",
    "\n",
    "### Why This Analysis?  \n",
    "- **Audience vs. Critics**: Why do some films like *What Happens in Vegas* (Audience: 72%, Rotten Tomatoes: 28%) divide critics and moviegoers?  \n",
    "- **Profitability Secrets**: Can low-budget indie films (*Waitress*: 11.09x ROI) outpace blockbusters?  \n",
    "- **Genre Trends**: Are Comedies and Romances the safest bets, or do other genres offer hidden opportunities?  \n",
    "\n",
    "### Dataset Overview  \n",
    "This analysis builds on the cleaned dataset from `movies_cleaned.csv`, which includes:  \n",
    "- **Key Features**: Genre, Lead Studio, Audience Score, Profitability, Rotten Tomatoes %, Worldwide Gross.  \n",
    "- **Derived Metrics**: Decade, ROI Category, Critic-Audience Gap Rating.  \n",
    "- **Preprocessing**: Winsorization (`Profitability_winsorized`, `Worldwide_Gross_winsorized`) to handle outliers.  \n",
    "\n",
    "### What’s Ahead?  \n",
    "1. **Basic Distributions**: Which genres dominate? How do studios compare? ([Section 1.1](#11-plotting-distributions))  \n",
    "2. **Deep Dives**:  \n",
    "   - The profitability paradox: High earnings ≠ critical acclaim.  \n",
    "   - Temporal trends: How film success metrics evolved over decades.  \n",
    "3. **Unexpected Finds**: Surprising outliers and what they reveal.  \n",
    " "
   ]
  },
  {
   "cell_type": "code",
   "execution_count": 289,
   "id": "490796ee",
   "metadata": {},
   "outputs": [],
   "source": [
    "# include all packages\n",
    "import numpy as np\n",
    "import pandas as pd\n",
    "import matplotlib.pyplot as plt\n",
    "import seaborn as sns\n",
    "import sys\n",
    "import warnings\n",
    "from scipy.stats import mstats\n",
    "from matplotlib.patches import ArrowStyle\n",
    "warnings.filterwarnings('ignore')"
   ]
  },
  {
   "cell_type": "code",
   "execution_count": 290,
   "id": "3e869e7d",
   "metadata": {},
   "outputs": [
    {
     "name": "stdout",
     "output_type": "stream",
     "text": [
      "Dataset is valid\n"
     ]
    },
    {
     "data": {
      "text/html": [
       "<div>\n",
       "<style scoped>\n",
       "    .dataframe tbody tr th:only-of-type {\n",
       "        vertical-align: middle;\n",
       "    }\n",
       "\n",
       "    .dataframe tbody tr th {\n",
       "        vertical-align: top;\n",
       "    }\n",
       "\n",
       "    .dataframe thead th {\n",
       "        text-align: right;\n",
       "    }\n",
       "</style>\n",
       "<table border=\"1\" class=\"dataframe\">\n",
       "  <thead>\n",
       "    <tr style=\"text-align: right;\">\n",
       "      <th></th>\n",
       "      <th>Film</th>\n",
       "      <th>Genre</th>\n",
       "      <th>Lead Studio</th>\n",
       "      <th>Audience score %</th>\n",
       "      <th>Profitability</th>\n",
       "      <th>Rotten Tomatoes %</th>\n",
       "      <th>Worldwide Gross</th>\n",
       "      <th>Year</th>\n",
       "    </tr>\n",
       "  </thead>\n",
       "  <tbody>\n",
       "    <tr>\n",
       "      <th>0</th>\n",
       "      <td>Zack and Miri Make a Porno</td>\n",
       "      <td>Romance</td>\n",
       "      <td>The Weinstein Company</td>\n",
       "      <td>70.0</td>\n",
       "      <td>1.747542</td>\n",
       "      <td>64.0</td>\n",
       "      <td>$41.94</td>\n",
       "      <td>2008.0</td>\n",
       "    </tr>\n",
       "    <tr>\n",
       "      <th>1</th>\n",
       "      <td>Youth in Revolt</td>\n",
       "      <td>Comedy</td>\n",
       "      <td>The Weinstein Company</td>\n",
       "      <td>52.0</td>\n",
       "      <td>1.090000</td>\n",
       "      <td>68.0</td>\n",
       "      <td>$19.62</td>\n",
       "      <td>2010.0</td>\n",
       "    </tr>\n",
       "    <tr>\n",
       "      <th>2</th>\n",
       "      <td>You Will Meet a Tall Dark Stranger</td>\n",
       "      <td>Comedy</td>\n",
       "      <td>Independent</td>\n",
       "      <td>35.0</td>\n",
       "      <td>1.211818</td>\n",
       "      <td>43.0</td>\n",
       "      <td>$26.66</td>\n",
       "      <td>2010.0</td>\n",
       "    </tr>\n",
       "    <tr>\n",
       "      <th>3</th>\n",
       "      <td>When in Rome</td>\n",
       "      <td>Comedy</td>\n",
       "      <td>Disney</td>\n",
       "      <td>44.0</td>\n",
       "      <td>0.000000</td>\n",
       "      <td>15.0</td>\n",
       "      <td>$43.04</td>\n",
       "      <td>2010.0</td>\n",
       "    </tr>\n",
       "    <tr>\n",
       "      <th>4</th>\n",
       "      <td>What Happens in Vegas</td>\n",
       "      <td>Comedy</td>\n",
       "      <td>Fox</td>\n",
       "      <td>72.0</td>\n",
       "      <td>6.267647</td>\n",
       "      <td>28.0</td>\n",
       "      <td>$219.37</td>\n",
       "      <td>2008.0</td>\n",
       "    </tr>\n",
       "    <tr>\n",
       "      <th>5</th>\n",
       "      <td>Water For Elephants</td>\n",
       "      <td>Drama</td>\n",
       "      <td>20th Century Fox</td>\n",
       "      <td>72.0</td>\n",
       "      <td>3.081421</td>\n",
       "      <td>60.0</td>\n",
       "      <td>$117.09</td>\n",
       "      <td>2011.0</td>\n",
       "    </tr>\n",
       "    <tr>\n",
       "      <th>6</th>\n",
       "      <td>WALL-E</td>\n",
       "      <td>Animation</td>\n",
       "      <td>Disney</td>\n",
       "      <td>89.0</td>\n",
       "      <td>2.896019</td>\n",
       "      <td>96.0</td>\n",
       "      <td>$521.28</td>\n",
       "      <td>2008.0</td>\n",
       "    </tr>\n",
       "    <tr>\n",
       "      <th>7</th>\n",
       "      <td>Waitress</td>\n",
       "      <td>Romance</td>\n",
       "      <td>Independent</td>\n",
       "      <td>67.0</td>\n",
       "      <td>11.089742</td>\n",
       "      <td>89.0</td>\n",
       "      <td>$22.18</td>\n",
       "      <td>2007.0</td>\n",
       "    </tr>\n",
       "    <tr>\n",
       "      <th>8</th>\n",
       "      <td>Waiting For Forever</td>\n",
       "      <td>Romance</td>\n",
       "      <td>Independent</td>\n",
       "      <td>53.0</td>\n",
       "      <td>0.005000</td>\n",
       "      <td>6.0</td>\n",
       "      <td>$0.03</td>\n",
       "      <td>2011.0</td>\n",
       "    </tr>\n",
       "    <tr>\n",
       "      <th>9</th>\n",
       "      <td>Valentine's Day</td>\n",
       "      <td>Comedy</td>\n",
       "      <td>Warner Bros.</td>\n",
       "      <td>54.0</td>\n",
       "      <td>4.184038</td>\n",
       "      <td>17.0</td>\n",
       "      <td>$217.57</td>\n",
       "      <td>2010.0</td>\n",
       "    </tr>\n",
       "  </tbody>\n",
       "</table>\n",
       "</div>"
      ],
      "text/plain": [
       "                                 Film      Genre            Lead Studio  \\\n",
       "0          Zack and Miri Make a Porno    Romance  The Weinstein Company   \n",
       "1                     Youth in Revolt     Comedy  The Weinstein Company   \n",
       "2  You Will Meet a Tall Dark Stranger     Comedy            Independent   \n",
       "3                        When in Rome     Comedy                 Disney   \n",
       "4               What Happens in Vegas     Comedy                    Fox   \n",
       "5                 Water For Elephants      Drama       20th Century Fox   \n",
       "6                              WALL-E  Animation                 Disney   \n",
       "7                            Waitress    Romance            Independent   \n",
       "8                 Waiting For Forever    Romance            Independent   \n",
       "9                     Valentine's Day     Comedy           Warner Bros.   \n",
       "\n",
       "   Audience score %  Profitability  Rotten Tomatoes % Worldwide Gross    Year  \n",
       "0              70.0       1.747542               64.0         $41.94   2008.0  \n",
       "1              52.0       1.090000               68.0         $19.62   2010.0  \n",
       "2              35.0       1.211818               43.0         $26.66   2010.0  \n",
       "3              44.0       0.000000               15.0         $43.04   2010.0  \n",
       "4              72.0       6.267647               28.0        $219.37   2008.0  \n",
       "5              72.0       3.081421               60.0        $117.09   2011.0  \n",
       "6              89.0       2.896019               96.0        $521.28   2008.0  \n",
       "7              67.0      11.089742               89.0         $22.18   2007.0  \n",
       "8              53.0       0.005000                6.0          $0.03   2011.0  \n",
       "9              54.0       4.184038               17.0        $217.57   2010.0  "
      ]
     },
     "execution_count": 290,
     "metadata": {},
     "output_type": "execute_result"
    }
   ],
   "source": [
    "# import the Dataset\n",
    "try:\n",
    "    df = pd.read_csv('movies.csv')\n",
    "    expected_cols = ['Film', 'Genre', 'Lead Studio', 'Audience score %', 'Profitability', \n",
    "    'Rotten Tomatoes %', 'Worldwide Gross', 'Year']\n",
    "    if list(df.columns) == expected_cols:\n",
    "        print('Dataset is valid')\n",
    "    else:\n",
    "        raise ValueError(\"Dataset imported is not what was expected\")\n",
    "        sys.exit(1)\n",
    "except FileNotFoundError:\n",
    "    print('File not found')\n",
    "    sys.exit(1)\n",
    "except pd.errors.EmptyDataError:\n",
    "    print('File or Dataset is empty')\n",
    "    sys.exit(1)\n",
    "except ValueError as VE:\n",
    "    print(\"Value Error: \", VE)\n",
    "    sys.exit(1)\n",
    "except Exception as E:\n",
    "    print(\"Error: \", E)\n",
    "    sys.exit(1)\n",
    "\n",
    "df.head(10)"
   ]
  },
  {
   "cell_type": "markdown",
   "id": "d5301f02",
   "metadata": {},
   "source": [
    "## 1. Analyzing and Cleaning Dataset"
   ]
  },
  {
   "cell_type": "markdown",
   "id": "f16822c0",
   "metadata": {},
   "source": [
    "### 1.1. Checking for Missing Values"
   ]
  },
  {
   "cell_type": "code",
   "execution_count": 291,
   "id": "6bee669f",
   "metadata": {},
   "outputs": [
    {
     "name": "stdout",
     "output_type": "stream",
     "text": [
      "<class 'pandas.core.frame.DataFrame'>\n",
      "RangeIndex: 77 entries, 0 to 76\n",
      "Data columns (total 8 columns):\n",
      " #   Column             Non-Null Count  Dtype  \n",
      "---  ------             --------------  -----  \n",
      " 0   Film               77 non-null     object \n",
      " 1   Genre              75 non-null     object \n",
      " 2   Lead Studio        75 non-null     object \n",
      " 3   Audience score %   76 non-null     float64\n",
      " 4   Profitability      73 non-null     float64\n",
      " 5   Rotten Tomatoes %  76 non-null     float64\n",
      " 6   Worldwide Gross    76 non-null     object \n",
      " 7   Year               76 non-null     float64\n",
      "dtypes: float64(4), object(4)\n",
      "memory usage: 4.9+ KB\n"
     ]
    }
   ],
   "source": [
    "# Information about the dataset\n",
    "df.info()"
   ]
  },
  {
   "cell_type": "code",
   "execution_count": 292,
   "id": "650dc9cd",
   "metadata": {},
   "outputs": [
    {
     "data": {
      "text/plain": [
       "Film                 0\n",
       "Genre                2\n",
       "Lead Studio          2\n",
       "Audience score %     1\n",
       "Profitability        4\n",
       "Rotten Tomatoes %    1\n",
       "Worldwide Gross      1\n",
       "Year                 1\n",
       "dtype: int64"
      ]
     },
     "execution_count": 292,
     "metadata": {},
     "output_type": "execute_result"
    }
   ],
   "source": [
    "# Counting missing values in each column\n",
    "df.isnull().sum()"
   ]
  },
  {
   "cell_type": "markdown",
   "id": "96febecc",
   "metadata": {},
   "source": [
    "### 1.2. Checking for Duplicates & Handling them"
   ]
  },
  {
   "cell_type": "code",
   "execution_count": 293,
   "id": "a75773dd",
   "metadata": {},
   "outputs": [
    {
     "data": {
      "text/plain": [
       "np.int64(2)"
      ]
     },
     "execution_count": 293,
     "metadata": {},
     "output_type": "execute_result"
    }
   ],
   "source": [
    "# Checking for duplicates\n",
    "df.duplicated().sum()"
   ]
  },
  {
   "cell_type": "code",
   "execution_count": 294,
   "id": "b97e5e8c",
   "metadata": {},
   "outputs": [
    {
     "data": {
      "text/html": [
       "<div>\n",
       "<style scoped>\n",
       "    .dataframe tbody tr th:only-of-type {\n",
       "        vertical-align: middle;\n",
       "    }\n",
       "\n",
       "    .dataframe tbody tr th {\n",
       "        vertical-align: top;\n",
       "    }\n",
       "\n",
       "    .dataframe thead th {\n",
       "        text-align: right;\n",
       "    }\n",
       "</style>\n",
       "<table border=\"1\" class=\"dataframe\">\n",
       "  <thead>\n",
       "    <tr style=\"text-align: right;\">\n",
       "      <th></th>\n",
       "      <th>Film</th>\n",
       "      <th>Genre</th>\n",
       "      <th>Lead Studio</th>\n",
       "      <th>Audience score %</th>\n",
       "      <th>Profitability</th>\n",
       "      <th>Rotten Tomatoes %</th>\n",
       "      <th>Worldwide Gross</th>\n",
       "      <th>Year</th>\n",
       "    </tr>\n",
       "  </thead>\n",
       "  <tbody>\n",
       "    <tr>\n",
       "      <th>45</th>\n",
       "      <td>Mamma Mia!</td>\n",
       "      <td>Comedy</td>\n",
       "      <td>Universal</td>\n",
       "      <td>76.0</td>\n",
       "      <td>9.234454</td>\n",
       "      <td>53.0</td>\n",
       "      <td>$609.47</td>\n",
       "      <td>2008.0</td>\n",
       "    </tr>\n",
       "    <tr>\n",
       "      <th>46</th>\n",
       "      <td>Mamma Mia!</td>\n",
       "      <td>Comedy</td>\n",
       "      <td>Universal</td>\n",
       "      <td>76.0</td>\n",
       "      <td>9.234454</td>\n",
       "      <td>53.0</td>\n",
       "      <td>$609.47</td>\n",
       "      <td>2008.0</td>\n",
       "    </tr>\n",
       "    <tr>\n",
       "      <th>64</th>\n",
       "      <td>Gnomeo and Juliet</td>\n",
       "      <td>Animation</td>\n",
       "      <td>Disney</td>\n",
       "      <td>52.0</td>\n",
       "      <td>NaN</td>\n",
       "      <td>56.0</td>\n",
       "      <td>$193.97</td>\n",
       "      <td>2011.0</td>\n",
       "    </tr>\n",
       "    <tr>\n",
       "      <th>65</th>\n",
       "      <td>Gnomeo and Juliet</td>\n",
       "      <td>Animation</td>\n",
       "      <td>Disney</td>\n",
       "      <td>52.0</td>\n",
       "      <td>NaN</td>\n",
       "      <td>56.0</td>\n",
       "      <td>$193.97</td>\n",
       "      <td>2011.0</td>\n",
       "    </tr>\n",
       "  </tbody>\n",
       "</table>\n",
       "</div>"
      ],
      "text/plain": [
       "                 Film      Genre Lead Studio  Audience score %  Profitability  \\\n",
       "45         Mamma Mia!     Comedy   Universal              76.0       9.234454   \n",
       "46         Mamma Mia!     Comedy   Universal              76.0       9.234454   \n",
       "64  Gnomeo and Juliet  Animation      Disney              52.0            NaN   \n",
       "65  Gnomeo and Juliet  Animation      Disney              52.0            NaN   \n",
       "\n",
       "    Rotten Tomatoes % Worldwide Gross    Year  \n",
       "45               53.0        $609.47   2008.0  \n",
       "46               53.0        $609.47   2008.0  \n",
       "64               56.0        $193.97   2011.0  \n",
       "65               56.0        $193.97   2011.0  "
      ]
     },
     "execution_count": 294,
     "metadata": {},
     "output_type": "execute_result"
    }
   ],
   "source": [
    "# Getting position of duplicates\n",
    "df[df.duplicated(keep=False)]"
   ]
  },
  {
   "cell_type": "code",
   "execution_count": 295,
   "id": "971ff6de",
   "metadata": {},
   "outputs": [
    {
     "data": {
      "text/plain": [
       "np.int64(0)"
      ]
     },
     "execution_count": 295,
     "metadata": {},
     "output_type": "execute_result"
    }
   ],
   "source": [
    "# Remove the Duplicates from the dataset\n",
    "df.drop_duplicates(inplace=True)\n",
    "df.duplicated().sum()"
   ]
  },
  {
   "cell_type": "code",
   "execution_count": 296,
   "id": "1cb3d9b7",
   "metadata": {},
   "outputs": [
    {
     "data": {
      "text/html": [
       "<div>\n",
       "<style scoped>\n",
       "    .dataframe tbody tr th:only-of-type {\n",
       "        vertical-align: middle;\n",
       "    }\n",
       "\n",
       "    .dataframe tbody tr th {\n",
       "        vertical-align: top;\n",
       "    }\n",
       "\n",
       "    .dataframe thead th {\n",
       "        text-align: right;\n",
       "    }\n",
       "</style>\n",
       "<table border=\"1\" class=\"dataframe\">\n",
       "  <thead>\n",
       "    <tr style=\"text-align: right;\">\n",
       "      <th></th>\n",
       "      <th>Film</th>\n",
       "      <th>Genre</th>\n",
       "      <th>Lead Studio</th>\n",
       "      <th>Audience score %</th>\n",
       "      <th>Profitability</th>\n",
       "      <th>Rotten Tomatoes %</th>\n",
       "      <th>Worldwide Gross</th>\n",
       "      <th>Year</th>\n",
       "    </tr>\n",
       "  </thead>\n",
       "  <tbody>\n",
       "  </tbody>\n",
       "</table>\n",
       "</div>"
      ],
      "text/plain": [
       "Empty DataFrame\n",
       "Columns: [Film, Genre, Lead Studio, Audience score %, Profitability, Rotten Tomatoes %, Worldwide Gross, Year]\n",
       "Index: []"
      ]
     },
     "execution_count": 296,
     "metadata": {},
     "output_type": "execute_result"
    }
   ],
   "source": [
    "# Making sure there are no duplicates\n",
    "df[df.duplicated(keep=False)]"
   ]
  },
  {
   "cell_type": "markdown",
   "id": "e4bc39e8",
   "metadata": {},
   "source": [
    "### 1.3 Check Categorical and Numerical Columns and Handle them"
   ]
  },
  {
   "cell_type": "code",
   "execution_count": 297,
   "id": "1b739990",
   "metadata": {},
   "outputs": [
    {
     "name": "stdout",
     "output_type": "stream",
     "text": [
      "Numerical columns: Index(['Audience score %', 'Profitability', 'Rotten Tomatoes %', 'Year'], dtype='object')\n",
      "Categorical columns: Index(['Film', 'Genre', 'Lead Studio', 'Worldwide Gross'], dtype='object')\n"
     ]
    }
   ],
   "source": [
    "# Select numerical and categorical columns\n",
    "numerical_cols = df.select_dtypes(include=['number']).columns\n",
    "categorical_cols = df.select_dtypes(include=['object', 'category']).columns\n",
    "\n",
    "print(\"Numerical columns:\", numerical_cols)\n",
    "print(\"Categorical columns:\", categorical_cols)"
   ]
  },
  {
   "cell_type": "markdown",
   "id": "ccad28a7",
   "metadata": {},
   "source": [
    "#### 1.3.1. Remove '$' sign from worldwide gross column and convert to float"
   ]
  },
  {
   "cell_type": "code",
   "execution_count": 298,
   "id": "b06c06eb",
   "metadata": {},
   "outputs": [
    {
     "data": {
      "text/plain": [
       "0      $41.94 \n",
       "1      $19.62 \n",
       "2      $26.66 \n",
       "3      $43.04 \n",
       "4     $219.37 \n",
       "        ...   \n",
       "72     $29.37 \n",
       "73     $30.68 \n",
       "74      $8.97 \n",
       "75    $160.31 \n",
       "76     $60.72 \n",
       "Name: Worldwide Gross, Length: 75, dtype: object"
      ]
     },
     "execution_count": 298,
     "metadata": {},
     "output_type": "execute_result"
    }
   ],
   "source": [
    "# Print Worldwide Gross column\n",
    "df['Worldwide Gross']"
   ]
  },
  {
   "cell_type": "code",
   "execution_count": 299,
   "id": "b555feea",
   "metadata": {},
   "outputs": [
    {
     "data": {
      "text/plain": [
       "0      41.94\n",
       "1      19.62\n",
       "2      26.66\n",
       "3      43.04\n",
       "4     219.37\n",
       "       ...  \n",
       "72     29.37\n",
       "73     30.68\n",
       "74      8.97\n",
       "75    160.31\n",
       "76     60.72\n",
       "Name: Worldwide Gross, Length: 75, dtype: float64"
      ]
     },
     "execution_count": 299,
     "metadata": {},
     "output_type": "execute_result"
    }
   ],
   "source": [
    "# Remove the $ sign and any spacing from the Worldwide Gross column\n",
    "df['Worldwide Gross'] = (df['Worldwide Gross']\n",
    "                        .str.replace(r'[^\\d.]', '', regex=True)\n",
    "                        .astype(float))\n",
    "df['Worldwide Gross']"
   ]
  },
  {
   "cell_type": "markdown",
   "id": "0211f8b8",
   "metadata": {},
   "source": [
    "### 1.4 Handling NaN (Missing Values)"
   ]
  },
  {
   "cell_type": "markdown",
   "id": "1940e339",
   "metadata": {},
   "source": [
    "#### 1.4.1. Replacing Missing Values in object and category columns with 'Unknown'"
   ]
  },
  {
   "cell_type": "code",
   "execution_count": 300,
   "id": "c924c8dc",
   "metadata": {},
   "outputs": [
    {
     "name": "stdout",
     "output_type": "stream",
     "text": [
      "Number of NaN values in Genre column: 0\n",
      "Number of NaN values in Lead Studio column: 0\n"
     ]
    }
   ],
   "source": [
    "# Fill NaN values in Genre, and Lead Studio columns\n",
    "df['Genre'].fillna('Unknown', inplace=True)\n",
    "df['Lead Studio'].fillna('Unknown', inplace=True)\n",
    "\n",
    "# Check for NaN Values\n",
    "print(\"Number of NaN values in Genre column:\", df['Genre'].isnull().sum())\n",
    "print(\"Number of NaN values in Lead Studio column:\", df['Lead Studio'].isnull().sum())\n"
   ]
  },
  {
   "cell_type": "markdown",
   "id": "e3c3493e",
   "metadata": {},
   "source": [
    "#### 1.4.2. Replacing Missing Values in numerical columns with the mean"
   ]
  },
  {
   "cell_type": "code",
   "execution_count": 301,
   "id": "92cbe13b",
   "metadata": {},
   "outputs": [
    {
     "name": "stdout",
     "output_type": "stream",
     "text": [
      "Number of NaN values in Audience score % column: 0\n",
      "Number of NaN values in Rotten Tomatoes % column: 0\n",
      "Number of NaN values in Year column: 0\n"
     ]
    }
   ],
   "source": [
    "# Fill NaN values in all numerical columns\n",
    "df['Audience score %'].fillna(df['Audience score %'].mean(), inplace=True)\n",
    "df['Rotten Tomatoes %'].fillna(df['Rotten Tomatoes %'].mean(), inplace=True)\n",
    "df['Year'].fillna(df['Year'].mean(), inplace=True)\n",
    "\n",
    "# Check for NaN Values\n",
    "print(\"Number of NaN values in Audience score % column:\", df['Audience score %'].isnull().sum())\n",
    "print(\"Number of NaN values in Rotten Tomatoes % column:\", df['Rotten Tomatoes %'].isnull().sum())\n",
    "print(\"Number of NaN values in Year column:\", df['Year'].isnull().sum())"
   ]
  },
  {
   "cell_type": "code",
   "execution_count": 302,
   "id": "fe964f0a",
   "metadata": {},
   "outputs": [
    {
     "data": {
      "text/plain": [
       "Film                 0\n",
       "Genre                0\n",
       "Lead Studio          0\n",
       "Audience score %     0\n",
       "Profitability        3\n",
       "Rotten Tomatoes %    0\n",
       "Worldwide Gross      1\n",
       "Year                 0\n",
       "dtype: int64"
      ]
     },
     "execution_count": 302,
     "metadata": {},
     "output_type": "execute_result"
    }
   ],
   "source": [
    "df.isnull().sum()"
   ]
  },
  {
   "cell_type": "code",
   "execution_count": 303,
   "id": "04508d12",
   "metadata": {},
   "outputs": [
    {
     "name": "stdout",
     "output_type": "stream",
     "text": [
      "<class 'pandas.core.series.Series'>\n",
      "Index: 75 entries, 0 to 76\n",
      "Series name: Year\n",
      "Non-Null Count  Dtype\n",
      "--------------  -----\n",
      "75 non-null     int64\n",
      "dtypes: int64(1)\n",
      "memory usage: 1.2 KB\n"
     ]
    }
   ],
   "source": [
    "# Converting Year from float64 to int\n",
    "df['Year'] = df['Year'].astype(int)\n",
    "df['Year'].info()"
   ]
  },
  {
   "cell_type": "markdown",
   "id": "7b836621",
   "metadata": {},
   "source": [
    "#### 1.4.3. Investigating Critical Columns (Profitability and Worldwide Gross) for Missing Values and Handling them"
   ]
  },
  {
   "cell_type": "code",
   "execution_count": 304,
   "id": "f3d2fdb2",
   "metadata": {},
   "outputs": [
    {
     "data": {
      "text/plain": [
       "56     1.797417\n",
       "57     0.000000\n",
       "58     2.642353\n",
       "59     1.340000\n",
       "60    22.913136\n",
       "61     7.153600\n",
       "62     2.367685\n",
       "63     1.314062\n",
       "64          NaN\n",
       "66     2.044400\n",
       "67     2.022925\n",
       "68    66.934000\n",
       "69     4.005737\n",
       "70     4.598800\n",
       "71     4.471875\n",
       "72     0.652603\n",
       "73          NaN\n",
       "74     0.448645\n",
       "75     5.343622\n",
       "76     8.096000\n",
       "Name: Profitability, dtype: float64"
      ]
     },
     "execution_count": 304,
     "metadata": {},
     "output_type": "execute_result"
    }
   ],
   "source": [
    "df['Profitability'].tail(20)"
   ]
  },
  {
   "cell_type": "code",
   "execution_count": 305,
   "id": "59910e1a",
   "metadata": {},
   "outputs": [
    {
     "name": "stdout",
     "output_type": "stream",
     "text": [
      "Number of NaN values in Profitability column: 0\n",
      "Number of NaN values in Worldwide Gross column: 0\n"
     ]
    }
   ],
   "source": [
    "# Fill NaN values in Profitability column with the median of each Genre\n",
    "df['Profitability'] = df.groupby('Genre')['Profitability'].transform(\n",
    "    lambda x: x.fillna(x.median())\n",
    ")\n",
    "\n",
    "# Fill NaN values in Worldwide Gross column with the median of each Genre in each Lead Studio\n",
    "df['Worldwide Gross'] = df['Worldwide Gross'].fillna(\n",
    "    df.groupby(pd.qcut(df['Audience score %'], 5))['Worldwide Gross'].transform('median')\n",
    ")\n",
    "\n",
    "# Check for NaN Values\n",
    "print(\"Number of NaN values in Profitability column:\", df['Profitability'].isnull().sum())\n",
    "print(\"Number of NaN values in Worldwide Gross column:\", df['Worldwide Gross'].isnull().sum())"
   ]
  },
  {
   "cell_type": "markdown",
   "id": "4741e72d",
   "metadata": {},
   "source": [
    "## 2. Feature Engineering"
   ]
  },
  {
   "cell_type": "markdown",
   "id": "7f02a8bc",
   "metadata": {},
   "source": [
    "### 2.1. Adding new Columns"
   ]
  },
  {
   "cell_type": "markdown",
   "id": "762c5bfd",
   "metadata": {},
   "source": [
    "#### 2.1.1. Adding Decade Column"
   ]
  },
  {
   "cell_type": "code",
   "execution_count": 306,
   "id": "b8c8e9ee",
   "metadata": {},
   "outputs": [
    {
     "data": {
      "text/plain": [
       "0     2000s\n",
       "1     2010s\n",
       "2     2010s\n",
       "3     2010s\n",
       "4     2000s\n",
       "      ...  \n",
       "72    2000s\n",
       "73    2000s\n",
       "74    2010s\n",
       "75    2000s\n",
       "76    2000s\n",
       "Name: Decade, Length: 75, dtype: object"
      ]
     },
     "execution_count": 306,
     "metadata": {},
     "output_type": "execute_result"
    }
   ],
   "source": [
    "# Add Decade Column Classification for Movies released in a time period\n",
    "df['Decade'] = (df['Year'].astype(int) // 10 * 10).astype(str) + 's'\n",
    "df['Decade']"
   ]
  },
  {
   "cell_type": "markdown",
   "id": "a8a3cffe",
   "metadata": {},
   "source": [
    "#### 2.1.2. Adding isIndependent Column for lead studios"
   ]
  },
  {
   "cell_type": "code",
   "execution_count": 307,
   "id": "41974db8",
   "metadata": {},
   "outputs": [
    {
     "data": {
      "text/plain": [
       "0     Major Studio\n",
       "1     Major Studio\n",
       "2      Independent\n",
       "3     Major Studio\n",
       "4     Major Studio\n",
       "          ...     \n",
       "72     Independent\n",
       "73    Major Studio\n",
       "74     Independent\n",
       "75    Major Studio\n",
       "76    Major Studio\n",
       "Name: isIndependent, Length: 75, dtype: object"
      ]
     },
     "execution_count": 307,
     "metadata": {},
     "output_type": "execute_result"
    }
   ],
   "source": [
    " # Add isIndependent Column for Movies that were made by Independent Studios\n",
    "df['isIndependent'] = np.where(df['Lead Studio'] == 'Independent', 'Independent', 'Major Studio')\n",
    "df['isIndependent']"
   ]
  },
  {
   "cell_type": "code",
   "execution_count": 308,
   "id": "e47e933c",
   "metadata": {},
   "outputs": [
    {
     "data": {
      "text/plain": [
       "isIndependent\n",
       "Major Studio    57\n",
       "Independent     18\n",
       "Name: count, dtype: int64"
      ]
     },
     "execution_count": 308,
     "metadata": {},
     "output_type": "execute_result"
    }
   ],
   "source": [
    "# Counting Independent and Major Movie studios\n",
    "df['isIndependent'].value_counts()"
   ]
  },
  {
   "cell_type": "markdown",
   "id": "9419eda0",
   "metadata": {},
   "source": [
    "#### 2.1.3. Adding Critic-Audience Gap Column"
   ]
  },
  {
   "cell_type": "code",
   "execution_count": 309,
   "id": "e1110c96",
   "metadata": {},
   "outputs": [
    {
     "data": {
      "text/plain": [
       "0     Favored by audience\n",
       "1      Favored by critics\n",
       "2      Favored by critics\n",
       "3     Favored by audience\n",
       "4     Favored by audience\n",
       "             ...         \n",
       "72    Favored by audience\n",
       "73     Favored by critics\n",
       "74    Favored by audience\n",
       "75    Favored by audience\n",
       "76     Favored by critics\n",
       "Name: Critic-Audience Gap Rating, Length: 75, dtype: object"
      ]
     },
     "execution_count": 309,
     "metadata": {},
     "output_type": "execute_result"
    }
   ],
   "source": [
    "# Add Critic-Audience Gap Rating column for Movies with a higher Audience score % than Critic\n",
    "df['Critic-Audience Gap Rating'] = np.where(df['Audience score %'] > df['Rotten Tomatoes %'], 'Favored by audience', 'Favored by critics')\n",
    "df['Critic-Audience Gap Rating']"
   ]
  },
  {
   "cell_type": "markdown",
   "id": "343c68a3",
   "metadata": {},
   "source": [
    "#### 2.1.4. Adding ROI Column"
   ]
  },
  {
   "cell_type": "code",
   "execution_count": 310,
   "id": "cbd4cd06",
   "metadata": {},
   "outputs": [
    {
     "data": {
      "text/plain": [
       "0        Low\n",
       "1        Low\n",
       "2        Low\n",
       "3        Low\n",
       "4       High\n",
       "       ...  \n",
       "72       Low\n",
       "73    Medium\n",
       "74       Low\n",
       "75      High\n",
       "76      High\n",
       "Name: ROI_Category, Length: 75, dtype: category\n",
       "Categories (3, object): ['Low' < 'Medium' < 'High']"
      ]
     },
     "execution_count": 310,
     "metadata": {},
     "output_type": "execute_result"
    }
   ],
   "source": [
    "# Add an ROI column \n",
    "low_threshold = df['Profitability'].quantile(0.33)  # Bottom 33%\n",
    "high_threshold = df['Profitability'].quantile(0.66)  # Top 33%\n",
    "\n",
    "df['ROI_Category'] = pd.cut(\n",
    "    df['Profitability'],\n",
    "    bins=[-np.inf, low_threshold, high_threshold, np.inf],\n",
    "    labels=['Low', 'Medium', 'High']\n",
    ")\n",
    "\n",
    "df['ROI_Category']"
   ]
  },
  {
   "cell_type": "markdown",
   "id": "e0adb1e3",
   "metadata": {},
   "source": [
    "## 3. Print the Dataframe after changes so far."
   ]
  },
  {
   "cell_type": "code",
   "execution_count": 311,
   "id": "78c82cc6",
   "metadata": {},
   "outputs": [
    {
     "data": {
      "text/html": [
       "<div>\n",
       "<style scoped>\n",
       "    .dataframe tbody tr th:only-of-type {\n",
       "        vertical-align: middle;\n",
       "    }\n",
       "\n",
       "    .dataframe tbody tr th {\n",
       "        vertical-align: top;\n",
       "    }\n",
       "\n",
       "    .dataframe thead th {\n",
       "        text-align: right;\n",
       "    }\n",
       "</style>\n",
       "<table border=\"1\" class=\"dataframe\">\n",
       "  <thead>\n",
       "    <tr style=\"text-align: right;\">\n",
       "      <th></th>\n",
       "      <th>Film</th>\n",
       "      <th>Genre</th>\n",
       "      <th>Lead Studio</th>\n",
       "      <th>Audience score %</th>\n",
       "      <th>Profitability</th>\n",
       "      <th>Rotten Tomatoes %</th>\n",
       "      <th>Worldwide Gross</th>\n",
       "      <th>Year</th>\n",
       "      <th>Decade</th>\n",
       "      <th>isIndependent</th>\n",
       "      <th>Critic-Audience Gap Rating</th>\n",
       "      <th>ROI_Category</th>\n",
       "    </tr>\n",
       "  </thead>\n",
       "  <tbody>\n",
       "    <tr>\n",
       "      <th>0</th>\n",
       "      <td>Zack and Miri Make a Porno</td>\n",
       "      <td>Romance</td>\n",
       "      <td>The Weinstein Company</td>\n",
       "      <td>70.0</td>\n",
       "      <td>1.747542</td>\n",
       "      <td>64.0</td>\n",
       "      <td>41.94</td>\n",
       "      <td>2008</td>\n",
       "      <td>2000s</td>\n",
       "      <td>Major Studio</td>\n",
       "      <td>Favored by audience</td>\n",
       "      <td>Low</td>\n",
       "    </tr>\n",
       "    <tr>\n",
       "      <th>1</th>\n",
       "      <td>Youth in Revolt</td>\n",
       "      <td>Comedy</td>\n",
       "      <td>The Weinstein Company</td>\n",
       "      <td>52.0</td>\n",
       "      <td>1.090000</td>\n",
       "      <td>68.0</td>\n",
       "      <td>19.62</td>\n",
       "      <td>2010</td>\n",
       "      <td>2010s</td>\n",
       "      <td>Major Studio</td>\n",
       "      <td>Favored by critics</td>\n",
       "      <td>Low</td>\n",
       "    </tr>\n",
       "    <tr>\n",
       "      <th>2</th>\n",
       "      <td>You Will Meet a Tall Dark Stranger</td>\n",
       "      <td>Comedy</td>\n",
       "      <td>Independent</td>\n",
       "      <td>35.0</td>\n",
       "      <td>1.211818</td>\n",
       "      <td>43.0</td>\n",
       "      <td>26.66</td>\n",
       "      <td>2010</td>\n",
       "      <td>2010s</td>\n",
       "      <td>Independent</td>\n",
       "      <td>Favored by critics</td>\n",
       "      <td>Low</td>\n",
       "    </tr>\n",
       "    <tr>\n",
       "      <th>3</th>\n",
       "      <td>When in Rome</td>\n",
       "      <td>Comedy</td>\n",
       "      <td>Disney</td>\n",
       "      <td>44.0</td>\n",
       "      <td>0.000000</td>\n",
       "      <td>15.0</td>\n",
       "      <td>43.04</td>\n",
       "      <td>2010</td>\n",
       "      <td>2010s</td>\n",
       "      <td>Major Studio</td>\n",
       "      <td>Favored by audience</td>\n",
       "      <td>Low</td>\n",
       "    </tr>\n",
       "    <tr>\n",
       "      <th>4</th>\n",
       "      <td>What Happens in Vegas</td>\n",
       "      <td>Comedy</td>\n",
       "      <td>Fox</td>\n",
       "      <td>72.0</td>\n",
       "      <td>6.267647</td>\n",
       "      <td>28.0</td>\n",
       "      <td>219.37</td>\n",
       "      <td>2008</td>\n",
       "      <td>2000s</td>\n",
       "      <td>Major Studio</td>\n",
       "      <td>Favored by audience</td>\n",
       "      <td>High</td>\n",
       "    </tr>\n",
       "    <tr>\n",
       "      <th>5</th>\n",
       "      <td>Water For Elephants</td>\n",
       "      <td>Drama</td>\n",
       "      <td>20th Century Fox</td>\n",
       "      <td>72.0</td>\n",
       "      <td>3.081421</td>\n",
       "      <td>60.0</td>\n",
       "      <td>117.09</td>\n",
       "      <td>2011</td>\n",
       "      <td>2010s</td>\n",
       "      <td>Major Studio</td>\n",
       "      <td>Favored by audience</td>\n",
       "      <td>Medium</td>\n",
       "    </tr>\n",
       "    <tr>\n",
       "      <th>6</th>\n",
       "      <td>WALL-E</td>\n",
       "      <td>Animation</td>\n",
       "      <td>Disney</td>\n",
       "      <td>89.0</td>\n",
       "      <td>2.896019</td>\n",
       "      <td>96.0</td>\n",
       "      <td>521.28</td>\n",
       "      <td>2008</td>\n",
       "      <td>2000s</td>\n",
       "      <td>Major Studio</td>\n",
       "      <td>Favored by critics</td>\n",
       "      <td>Medium</td>\n",
       "    </tr>\n",
       "    <tr>\n",
       "      <th>7</th>\n",
       "      <td>Waitress</td>\n",
       "      <td>Romance</td>\n",
       "      <td>Independent</td>\n",
       "      <td>67.0</td>\n",
       "      <td>11.089742</td>\n",
       "      <td>89.0</td>\n",
       "      <td>22.18</td>\n",
       "      <td>2007</td>\n",
       "      <td>2000s</td>\n",
       "      <td>Independent</td>\n",
       "      <td>Favored by critics</td>\n",
       "      <td>High</td>\n",
       "    </tr>\n",
       "    <tr>\n",
       "      <th>8</th>\n",
       "      <td>Waiting For Forever</td>\n",
       "      <td>Romance</td>\n",
       "      <td>Independent</td>\n",
       "      <td>53.0</td>\n",
       "      <td>0.005000</td>\n",
       "      <td>6.0</td>\n",
       "      <td>0.03</td>\n",
       "      <td>2011</td>\n",
       "      <td>2010s</td>\n",
       "      <td>Independent</td>\n",
       "      <td>Favored by audience</td>\n",
       "      <td>Low</td>\n",
       "    </tr>\n",
       "    <tr>\n",
       "      <th>9</th>\n",
       "      <td>Valentine's Day</td>\n",
       "      <td>Comedy</td>\n",
       "      <td>Warner Bros.</td>\n",
       "      <td>54.0</td>\n",
       "      <td>4.184038</td>\n",
       "      <td>17.0</td>\n",
       "      <td>217.57</td>\n",
       "      <td>2010</td>\n",
       "      <td>2010s</td>\n",
       "      <td>Major Studio</td>\n",
       "      <td>Favored by audience</td>\n",
       "      <td>High</td>\n",
       "    </tr>\n",
       "    <tr>\n",
       "      <th>10</th>\n",
       "      <td>Tyler Perry's Why Did I get Married</td>\n",
       "      <td>Romance</td>\n",
       "      <td>Independent</td>\n",
       "      <td>47.0</td>\n",
       "      <td>3.724192</td>\n",
       "      <td>46.0</td>\n",
       "      <td>55.86</td>\n",
       "      <td>2007</td>\n",
       "      <td>2000s</td>\n",
       "      <td>Independent</td>\n",
       "      <td>Favored by audience</td>\n",
       "      <td>High</td>\n",
       "    </tr>\n",
       "    <tr>\n",
       "      <th>11</th>\n",
       "      <td>Twilight: Breaking Dawn</td>\n",
       "      <td>Romance</td>\n",
       "      <td>Independent</td>\n",
       "      <td>68.0</td>\n",
       "      <td>6.383364</td>\n",
       "      <td>26.0</td>\n",
       "      <td>702.17</td>\n",
       "      <td>2011</td>\n",
       "      <td>2010s</td>\n",
       "      <td>Independent</td>\n",
       "      <td>Favored by audience</td>\n",
       "      <td>High</td>\n",
       "    </tr>\n",
       "    <tr>\n",
       "      <th>12</th>\n",
       "      <td>Twilight</td>\n",
       "      <td>Romance</td>\n",
       "      <td>Summit</td>\n",
       "      <td>82.0</td>\n",
       "      <td>10.180027</td>\n",
       "      <td>49.0</td>\n",
       "      <td>376.66</td>\n",
       "      <td>2008</td>\n",
       "      <td>2000s</td>\n",
       "      <td>Major Studio</td>\n",
       "      <td>Favored by audience</td>\n",
       "      <td>High</td>\n",
       "    </tr>\n",
       "    <tr>\n",
       "      <th>13</th>\n",
       "      <td>The Ugly Truth</td>\n",
       "      <td>Comedy</td>\n",
       "      <td>Independent</td>\n",
       "      <td>68.0</td>\n",
       "      <td>5.402632</td>\n",
       "      <td>14.0</td>\n",
       "      <td>205.30</td>\n",
       "      <td>2009</td>\n",
       "      <td>2000s</td>\n",
       "      <td>Independent</td>\n",
       "      <td>Favored by audience</td>\n",
       "      <td>High</td>\n",
       "    </tr>\n",
       "    <tr>\n",
       "      <th>14</th>\n",
       "      <td>The Twilight Saga: New Moon</td>\n",
       "      <td>Drama</td>\n",
       "      <td>Summit</td>\n",
       "      <td>78.0</td>\n",
       "      <td>14.196400</td>\n",
       "      <td>27.0</td>\n",
       "      <td>709.82</td>\n",
       "      <td>2009</td>\n",
       "      <td>2000s</td>\n",
       "      <td>Major Studio</td>\n",
       "      <td>Favored by audience</td>\n",
       "      <td>High</td>\n",
       "    </tr>\n",
       "    <tr>\n",
       "      <th>15</th>\n",
       "      <td>The Time Traveler's Wife</td>\n",
       "      <td>Drama</td>\n",
       "      <td>Paramount</td>\n",
       "      <td>65.0</td>\n",
       "      <td>2.598205</td>\n",
       "      <td>38.0</td>\n",
       "      <td>101.33</td>\n",
       "      <td>2009</td>\n",
       "      <td>2000s</td>\n",
       "      <td>Major Studio</td>\n",
       "      <td>Favored by audience</td>\n",
       "      <td>Medium</td>\n",
       "    </tr>\n",
       "    <tr>\n",
       "      <th>16</th>\n",
       "      <td>The Proposal</td>\n",
       "      <td>Comedy</td>\n",
       "      <td>Disney</td>\n",
       "      <td>74.0</td>\n",
       "      <td>7.867500</td>\n",
       "      <td>43.0</td>\n",
       "      <td>314.70</td>\n",
       "      <td>2009</td>\n",
       "      <td>2000s</td>\n",
       "      <td>Major Studio</td>\n",
       "      <td>Favored by audience</td>\n",
       "      <td>High</td>\n",
       "    </tr>\n",
       "    <tr>\n",
       "      <th>17</th>\n",
       "      <td>The Invention of Lying</td>\n",
       "      <td>Comedy</td>\n",
       "      <td>Warner Bros.</td>\n",
       "      <td>47.0</td>\n",
       "      <td>1.751351</td>\n",
       "      <td>56.0</td>\n",
       "      <td>32.40</td>\n",
       "      <td>2009</td>\n",
       "      <td>2000s</td>\n",
       "      <td>Major Studio</td>\n",
       "      <td>Favored by critics</td>\n",
       "      <td>Low</td>\n",
       "    </tr>\n",
       "    <tr>\n",
       "      <th>18</th>\n",
       "      <td>The Heartbreak Kid</td>\n",
       "      <td>Comedy</td>\n",
       "      <td>Paramount</td>\n",
       "      <td>41.0</td>\n",
       "      <td>2.129444</td>\n",
       "      <td>30.0</td>\n",
       "      <td>127.77</td>\n",
       "      <td>2007</td>\n",
       "      <td>2000s</td>\n",
       "      <td>Major Studio</td>\n",
       "      <td>Favored by audience</td>\n",
       "      <td>Medium</td>\n",
       "    </tr>\n",
       "    <tr>\n",
       "      <th>19</th>\n",
       "      <td>The Duchess</td>\n",
       "      <td>Drama</td>\n",
       "      <td>Paramount</td>\n",
       "      <td>68.0</td>\n",
       "      <td>3.207850</td>\n",
       "      <td>60.0</td>\n",
       "      <td>43.31</td>\n",
       "      <td>2008</td>\n",
       "      <td>2000s</td>\n",
       "      <td>Major Studio</td>\n",
       "      <td>Favored by audience</td>\n",
       "      <td>Medium</td>\n",
       "    </tr>\n",
       "  </tbody>\n",
       "</table>\n",
       "</div>"
      ],
      "text/plain": [
       "                                   Film      Genre            Lead Studio  \\\n",
       "0            Zack and Miri Make a Porno    Romance  The Weinstein Company   \n",
       "1                       Youth in Revolt     Comedy  The Weinstein Company   \n",
       "2    You Will Meet a Tall Dark Stranger     Comedy            Independent   \n",
       "3                          When in Rome     Comedy                 Disney   \n",
       "4                 What Happens in Vegas     Comedy                    Fox   \n",
       "5                   Water For Elephants      Drama       20th Century Fox   \n",
       "6                                WALL-E  Animation                 Disney   \n",
       "7                              Waitress    Romance            Independent   \n",
       "8                   Waiting For Forever    Romance            Independent   \n",
       "9                       Valentine's Day     Comedy           Warner Bros.   \n",
       "10  Tyler Perry's Why Did I get Married    Romance            Independent   \n",
       "11              Twilight: Breaking Dawn    Romance            Independent   \n",
       "12                             Twilight    Romance                 Summit   \n",
       "13                       The Ugly Truth     Comedy            Independent   \n",
       "14          The Twilight Saga: New Moon      Drama                 Summit   \n",
       "15             The Time Traveler's Wife      Drama              Paramount   \n",
       "16                         The Proposal     Comedy                 Disney   \n",
       "17               The Invention of Lying     Comedy           Warner Bros.   \n",
       "18                   The Heartbreak Kid     Comedy              Paramount   \n",
       "19                          The Duchess      Drama              Paramount   \n",
       "\n",
       "    Audience score %  Profitability  Rotten Tomatoes %  Worldwide Gross  Year  \\\n",
       "0               70.0       1.747542               64.0            41.94  2008   \n",
       "1               52.0       1.090000               68.0            19.62  2010   \n",
       "2               35.0       1.211818               43.0            26.66  2010   \n",
       "3               44.0       0.000000               15.0            43.04  2010   \n",
       "4               72.0       6.267647               28.0           219.37  2008   \n",
       "5               72.0       3.081421               60.0           117.09  2011   \n",
       "6               89.0       2.896019               96.0           521.28  2008   \n",
       "7               67.0      11.089742               89.0            22.18  2007   \n",
       "8               53.0       0.005000                6.0             0.03  2011   \n",
       "9               54.0       4.184038               17.0           217.57  2010   \n",
       "10              47.0       3.724192               46.0            55.86  2007   \n",
       "11              68.0       6.383364               26.0           702.17  2011   \n",
       "12              82.0      10.180027               49.0           376.66  2008   \n",
       "13              68.0       5.402632               14.0           205.30  2009   \n",
       "14              78.0      14.196400               27.0           709.82  2009   \n",
       "15              65.0       2.598205               38.0           101.33  2009   \n",
       "16              74.0       7.867500               43.0           314.70  2009   \n",
       "17              47.0       1.751351               56.0            32.40  2009   \n",
       "18              41.0       2.129444               30.0           127.77  2007   \n",
       "19              68.0       3.207850               60.0            43.31  2008   \n",
       "\n",
       "   Decade isIndependent Critic-Audience Gap Rating ROI_Category  \n",
       "0   2000s  Major Studio        Favored by audience          Low  \n",
       "1   2010s  Major Studio         Favored by critics          Low  \n",
       "2   2010s   Independent         Favored by critics          Low  \n",
       "3   2010s  Major Studio        Favored by audience          Low  \n",
       "4   2000s  Major Studio        Favored by audience         High  \n",
       "5   2010s  Major Studio        Favored by audience       Medium  \n",
       "6   2000s  Major Studio         Favored by critics       Medium  \n",
       "7   2000s   Independent         Favored by critics         High  \n",
       "8   2010s   Independent        Favored by audience          Low  \n",
       "9   2010s  Major Studio        Favored by audience         High  \n",
       "10  2000s   Independent        Favored by audience         High  \n",
       "11  2010s   Independent        Favored by audience         High  \n",
       "12  2000s  Major Studio        Favored by audience         High  \n",
       "13  2000s   Independent        Favored by audience         High  \n",
       "14  2000s  Major Studio        Favored by audience         High  \n",
       "15  2000s  Major Studio        Favored by audience       Medium  \n",
       "16  2000s  Major Studio        Favored by audience         High  \n",
       "17  2000s  Major Studio         Favored by critics          Low  \n",
       "18  2000s  Major Studio        Favored by audience       Medium  \n",
       "19  2000s  Major Studio        Favored by audience       Medium  "
      ]
     },
     "execution_count": 311,
     "metadata": {},
     "output_type": "execute_result"
    }
   ],
   "source": [
    "# New Dataframe after changes\n",
    "df.head(20)"
   ]
  },
  {
   "cell_type": "markdown",
   "id": "462054a4",
   "metadata": {},
   "source": [
    "## 4. Encode Categorical Variables"
   ]
  },
  {
   "cell_type": "markdown",
   "id": "f604bd27",
   "metadata": {},
   "source": [
    "### 4.1. One-Hot Encoding for All Categorical Columns"
   ]
  },
  {
   "cell_type": "code",
   "execution_count": 312,
   "id": "d5ed043e",
   "metadata": {},
   "outputs": [],
   "source": [
    "# One-Hot Encoding for Genre, Lead Studio, Decade, isIndependent, Critic-Audience Gap Rating, and ROI_Category\n",
    "encoded_df = pd.get_dummies(df, columns=['Genre', 'Lead Studio', 'Decade', 'isIndependent', 'Critic-Audience Gap Rating', 'ROI_Category'])\n",
    "encoded_df.head(10)\n",
    "\n",
    "# Saving the encoded dataframe\n",
    "encoded_df.to_csv('encoded_df.csv', index=False)"
   ]
  },
  {
   "cell_type": "markdown",
   "id": "14c7da35",
   "metadata": {},
   "source": [
    "## 5. Detecting outliers"
   ]
  },
  {
   "cell_type": "markdown",
   "id": "1acb0d3c",
   "metadata": {},
   "source": [
    "### 5.1. Detecting & Analyzing Outliers in profitability column"
   ]
  },
  {
   "cell_type": "code",
   "execution_count": 313,
   "id": "b3568f9b",
   "metadata": {},
   "outputs": [
    {
     "name": "stdout",
     "output_type": "stream",
     "text": [
      "Lower Bound: -2.118\n",
      "Upper Bound: 8.196\n"
     ]
    }
   ],
   "source": [
    "# Calculate the IQR for Profitability column\n",
    "Q1 = df['Profitability'].quantile(0.25)\n",
    "Q2 = df['Profitability'].quantile(0.75)\n",
    "IQR = Q2 - Q1\n",
    "lower_bound = Q1 - 1.5 * IQR\n",
    "upper_bound = Q2 + 1.5 * IQR\n",
    "\n",
    "print('Lower Bound:', lower_bound.round(3))\n",
    "print('Upper Bound:', upper_bound.round(3))"
   ]
  },
  {
   "cell_type": "code",
   "execution_count": 314,
   "id": "a9b96ece",
   "metadata": {},
   "outputs": [
    {
     "data": {
      "image/png": "[encoded data removed]",
      "text/plain": [
       "<Figure size 640x480 with 1 Axes>"
      ]
     },
     "metadata": {},
     "output_type": "display_data"
    }
   ],
   "source": [
    "# Plotting Profitability by Genre before dealing with outliers\n",
    "sns.boxplot(data=df, x='Profitability', hue='Genre', palette='Set2')\n",
    "plt.legend(bbox_to_anchor=(1.05, 1), loc=2, borderaxespad=0.)\n",
    "plt.title('Profitability by Genre', fontsize=16, fontweight='bold')\n",
    "plt.xlabel('Profitability (Average)', fontdict={'fontsize': 12})\n",
    "plt.ylabel('Genre', fontdict={'fontsize': 12})\n",
    "plt.show()"
   ]
  },
  {
   "cell_type": "code",
   "execution_count": 315,
   "id": "2b1abf75",
   "metadata": {},
   "outputs": [
    {
     "data": {
      "image/png": "[encoded data removed]",
      "text/plain": [
       "<Figure size 640x480 with 1 Axes>"
      ]
     },
     "metadata": {},
     "output_type": "display_data"
    }
   ],
   "source": [
    "# Handling outliers\n",
    "lower = df['Profitability'].quantile(0.05)  # 5th percentile\n",
    "upper = df['Profitability'].quantile(0.95)  # 95th percentile\n",
    "df['Profitability_winsorized'] = df['Profitability'].clip(lower, upper)\n",
    "\n",
    "# Replot after getting rid of extreme outliers\n",
    "sns.boxplot(data=df, x='Profitability_winsorized', hue='Genre', palette='Set2')\n",
    "plt.title('Log-Transformed Profitability by Genre', fontdict={'fontsize': 16, 'fontweight': 'bold'})\n",
    "plt.legend(bbox_to_anchor=(1.05, 1), loc=2, borderaxespad=0.)\n",
    "plt.xlabel('Profitability (Winsorized)', fontdict={'fontsize': 12})\n",
    "plt.ylabel('Genre', fontdict={'fontsize': 12})\n",
    "plt.show()"
   ]
  },
  {
   "cell_type": "markdown",
   "id": "a4cb202c",
   "metadata": {},
   "source": [
    "### 5.2. Detecting & Analyzing Outliers in Worldwide Gross column"
   ]
  },
  {
   "cell_type": "code",
   "execution_count": 316,
   "id": "fb8c2801",
   "metadata": {},
   "outputs": [
    {
     "name": "stdout",
     "output_type": "stream",
     "text": [
      "Lower Bound: -218.21\n",
      "Upper Bound: 450.34\n"
     ]
    }
   ],
   "source": [
    "# Calculate the IQR for Profitability column\n",
    "Q1 = df['Worldwide Gross'].quantile(0.25)\n",
    "Q2 = df['Worldwide Gross'].quantile(0.75)\n",
    "IQR = Q2 - Q1\n",
    "lower_bound = Q1 - 1.5 * IQR\n",
    "upper_bound = Q2 + 1.5 * IQR\n",
    "\n",
    "print('Lower Bound:', lower_bound.round(2))\n",
    "print('Upper Bound:', upper_bound.round(2))"
   ]
  },
  {
   "cell_type": "code",
   "execution_count": 317,
   "id": "3a45141a",
   "metadata": {},
   "outputs": [
    {
     "data": {
      "image/png": "[encoded data removed]",
      "text/plain": [
       "<Figure size 640x480 with 1 Axes>"
      ]
     },
     "metadata": {},
     "output_type": "display_data"
    }
   ],
   "source": [
    "# Plotting Worldwide Gross per small and major release before handling outliers\n",
    "sns.boxplot(data=df, x='Worldwide Gross', y='Genre', hue='isIndependent', palette='Set2')\n",
    "plt.legend(bbox_to_anchor=(1.05, 1), loc=2, borderaxespad=0.)\n",
    "plt.title('Worldwide Gross by Studio per Genre', fontsize=16, fontweight='bold')\n",
    "plt.xlabel('Worldwide Gross (Average)', fontdict={'fontsize': 12})\n",
    "plt.ylabel('Studio', fontdict={'fontsize': 12})\n",
    "plt.xticks(np.arange(0, 1000, 150) ,rotation=45)\n",
    "plt.show()"
   ]
  },
  {
   "cell_type": "code",
   "execution_count": 318,
   "id": "f5087f53",
   "metadata": {},
   "outputs": [
    {
     "data": {
      "image/png": "[encoded data removed]",
      "text/plain": [
       "<Figure size 640x480 with 1 Axes>"
      ]
     },
     "metadata": {},
     "output_type": "display_data"
    }
   ],
   "source": [
    "# Handle outliers\n",
    "lower = df['Worldwide Gross'].quantile(0.05)  # 5th percentile\n",
    "upper = df['Worldwide Gross'].quantile(0.95)  # 95th percentile\n",
    "df['Worldwide Gross_winsorized'] = df['Worldwide Gross'].clip(lower, upper)\n",
    "\n",
    "# Replot after getting rid of extreme outliers\n",
    "sns.boxplot(\n",
    "    data=df,\n",
    "    x='Worldwide Gross_winsorized',\n",
    "    y='Genre',\n",
    "    hue='isIndependent',\n",
    "    palette='Set2',\n",
    "    dodge=True,  # Separate boxes for 'isIndependent' categories\n",
    "    width=0.6,\n",
    "    fliersize=5  # Outlier marker size\n",
    ")\n",
    "\n",
    "plt.legend(bbox_to_anchor=(1.05, 1), loc=2, borderaxespad=0.)\n",
    "plt.title('Worldwide Gross by Studio per Genre', fontsize=16, fontweight='bold')\n",
    "plt.xlabel('Worldwide Gross (Winsorized)', fontdict={'fontsize': 12})\n",
    "plt.ylabel('Genre', fontdict={'fontsize': 12})\n",
    "plt.xticks(np.arange(0, 500, 50), rotation=45)\n",
    "plt.show()"
   ]
  },
  {
   "cell_type": "markdown",
   "id": "f37a74df",
   "metadata": {},
   "source": [
    "## 5. Saving all the Changes made on the Dataframe"
   ]
  },
  {
   "cell_type": "code",
   "execution_count": 319,
   "id": "a4d73f77",
   "metadata": {},
   "outputs": [],
   "source": [
    "# Svae the modified Dataframe\n",
    "df.to_csv('movies_cleaned.csv', index=False)"
   ]
  },
  {
   "cell_type": "markdown",
   "id": "60e09e60",
   "metadata": {},
   "source": [
    "## 6. Conclusion  \n",
    "\n",
    "This exploratory data analysis (EDA) on the cleaned movies dataset has provided valuable insights into the relationships between various film attributes, including genre, profitability, audience scores, and critic ratings. Through visualizations and statistical analyses, several key patterns emerged:  \n",
    "\n",
    "### Key Findings  \n",
    "\n",
    "1. **Genre Distribution** ([Section 1.1](#1-basic-distributions))  \n",
    "   - Comedy and Romance were the most frequent genres.  \n",
    "   - Certain genres showed stronger correlations with profitability or critical acclaim.  \n",
    "\n",
    "2. **Studio Performance**  \n",
    "   - Varied performance among lead studios in terms of profitability and audience reception.  \n",
    "   - Some studios consistently produced higher-rated films, while others prioritized financial success.  \n",
    "\n",
    "3. **Audience-Critic Discrepancy**  \n",
    "   - Notable gaps between audience scores and Rotten Tomatoes ratings (e.g., *What Happens in Vegas*: 72% audience vs. 28% critic score).  \n",
    "   - Genres like Comedy often had wider gaps compared to Drama or Animation.  \n",
    "\n",
    "4. **Profitability Trends**  \n",
    "   - High profitability did not always align with critical acclaim.  \n",
    "   - Winsorized data (`Profitability_winsorized`, `Worldwide Gross_winsorized`) helped mitigate outliers for clearer trends.  \n",
    "\n",
    "5. **Temporal Patterns**  \n",
    "   - Shifts in genre popularity and profitability across decades.  \n",
    "   - 2010s showed a rise in independent films with high ROI (e.g., *Waitress*: 11.09 profitability).  \n",
    "\n",
    "### Limitations  \n",
    "- Missing values required winsorization for robust analysis.  \n",
    "- Limited sample size for independent vs. major studio comparisons.  \n",
    "\n",
    "### Future Work  \n",
    "- Incorporate **budget data** for precise ROI calculations.  \n",
    "- Perform **sentiment analysis** on reviews to decode critic-audience gaps.  \n",
    "- Expand the dataset to include **recent years** and **broader film varieties**.  \n",
    "\n",
    "This EDA lays the groundwork for understanding film success dynamics, offering actionable insights for studios and filmmakers.  \n",
    "\n",
    "---\n",
    "\n",
    "### Linked Sections  \n",
    "- [Data Cleaning](#import-the-dataset): Handled missing values and winsorization.  \n",
    "- [Visualizations](#11-plotting-distributions): Genre, studio, and temporal trends.  \n",
    "- [Statistical Analysis](#critic-audience-gap-rating): Discrepancies and correlations.  "
   ]
  }
 ],
 "metadata": {
  "kernelspec": {
   "display_name": "base",
   "language": "python",
   "name": "python3"
  },
  "language_info": {
   "codemirror_mode": {
    "name": "ipython",
    "version": 3
   },
   "file_extension": ".py",
   "mimetype": "text/x-python",
   "name": "python",
   "nbconvert_exporter": "python",
   "pygments_lexer": "ipython3",
   "version": "3.13.5"
  }
 },
 "nbformat": 4,
 "nbformat_minor": 5
}
